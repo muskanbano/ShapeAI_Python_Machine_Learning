{
  "nbformat": 4,
  "nbformat_minor": 0,
  "metadata": {
    "colab": {
      "name": "Muskan Bano.ipynb",
      "provenance": []
    },
    "kernelspec": {
      "name": "python3",
      "display_name": "Python 3"
    },
    "language_info": {
      "name": "python"
    }
  },
  "cells": [
    {
      "cell_type": "code",
      "metadata": {
        "id": "ParJv3o-IrN2"
      },
      "source": [
        "import numpy as np\n",
        "import pandas as pd \n",
        "import sklearn"
      ],
      "execution_count": 78,
      "outputs": []
    },
    {
      "cell_type": "code",
      "metadata": {
        "id": "eFk1WOx_JmmI"
      },
      "source": [
        "from sklearn.datasets import load_boston\n",
        "df=load_boston()"
      ],
      "execution_count": 61,
      "outputs": []
    },
    {
      "cell_type": "code",
      "metadata": {
        "id": "8PGnpq6NJ5Kl"
      },
      "source": [
        "df.keys()\n",
        "print(df.DESCR)"
      ],
      "execution_count": null,
      "outputs": []
    },
    {
      "cell_type": "code",
      "metadata": {
        "id": "-MKjdzoMKJG5"
      },
      "source": [
        " boston = pd.DataFrame(df.data, columns=df.feature_names)\n",
        " boston.head(5)"
      ],
      "execution_count": null,
      "outputs": []
    },
    {
      "cell_type": "code",
      "metadata": {
        "id": "qjrf6eP_L_8c"
      },
      "source": [
        "boston['MEDV']=df.target\n",
        "boston.head(5)"
      ],
      "execution_count": null,
      "outputs": []
    },
    {
      "cell_type": "code",
      "metadata": {
        "id": "Oun5yo8LMRic"
      },
      "source": [
        "boston.isnull()"
      ],
      "execution_count": null,
      "outputs": []
    },
    {
      "cell_type": "code",
      "metadata": {
        "id": "yBA-yjyCMfhQ"
      },
      "source": [
        "boston.isnull().sum()"
      ],
      "execution_count": null,
      "outputs": []
    },
    {
      "cell_type": "code",
      "metadata": {
        "id": "6Cn4u1ikMw5S"
      },
      "source": [
        "from sklearn.model_selection import train_test_split"
      ],
      "execution_count": 67,
      "outputs": []
    },
    {
      "cell_type": "code",
      "metadata": {
        "id": "CR8sLuLGM-0b"
      },
      "source": [
        "X=boston.drop('MEDV',axis=1)\n",
        "Y=boston['MEDV']"
      ],
      "execution_count": 68,
      "outputs": []
    },
    {
      "cell_type": "code",
      "metadata": {
        "id": "790SqvY9NJw7"
      },
      "source": [
        "X_train, X_test, Y_train, Y_test = train_test_split(X,Y,test_size=0.15,random_state=5)"
      ],
      "execution_count": 69,
      "outputs": []
    },
    {
      "cell_type": "code",
      "metadata": {
        "id": "WJLwgC9tNz7C"
      },
      "source": [
        "print(X_train.shape)\n",
        "print(X_test.shape)\n",
        "print(Y_train.shape)\n",
        "print(Y_test.shape)"
      ],
      "execution_count": null,
      "outputs": []
    },
    {
      "cell_type": "code",
      "metadata": {
        "colab": {
          "base_uri": "https://localhost:8080/"
        },
        "id": "3qyfmt7hPVxg",
        "outputId": "f75d726f-941e-480b-8fa0-50b92cc95838"
      },
      "source": [
        "lin_model = LinearRegression()\n",
        "\n",
        "lin_model.fit(X_train, Y_train)"
      ],
      "execution_count": 72,
      "outputs": [
        {
          "output_type": "execute_result",
          "data": {
            "text/plain": [
              "LinearRegression(copy_X=True, fit_intercept=True, n_jobs=None, normalize=False)"
            ]
          },
          "metadata": {
            "tags": []
          },
          "execution_count": 72
        }
      ]
    },
    {
      "cell_type": "code",
      "metadata": {
        "id": "hT-pzjPROLjW"
      },
      "source": [
        "from sklearn.linear_model import LinearRegression\n",
        "from sklearn.metrics import mean_squared_error"
      ],
      "execution_count": 73,
      "outputs": []
    },
    {
      "cell_type": "code",
      "metadata": {
        "id": "wPts2NfDYaVP"
      },
      "source": [
        "Y_train_predict = lin_model.predict(X_train)\n",
        "rmse = (np.sqrt(mean_squared_error(Y_train, Y_train_predict)))\n",
        "print(\"The model performance for training set\")\n",
        "print('RMSE is {}'.format(rmse))\n",
        "print(\"/n\")"
      ],
      "execution_count": null,
      "outputs": []
    },
    {
      "cell_type": "code",
      "metadata": {
        "id": "-ezo6U7NZuys"
      },
      "source": [
        "Y_test_predict = lin_model.predict(X_test)\n",
        "rmse = (np.sqrt(mean_squared_error(Y_test, Y_test_predict)))\n",
        "print(\"The model performance for testing set\")\n",
        "print('RMSE is {}'.format(rmse))\n",
        "print(\"/n\")"
      ],
      "execution_count": null,
      "outputs": []
    }
  ]
}